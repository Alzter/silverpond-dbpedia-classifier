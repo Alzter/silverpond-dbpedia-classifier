{
 "cells": [
  {
   "cell_type": "markdown",
   "id": "66057dd0-3155-4ca5-b7d3-4087416a4b99",
   "metadata": {},
   "source": [
    "# ▶️ Configure GPUs"
   ]
  },
  {
   "cell_type": "code",
   "execution_count": 1,
   "id": "3604a738-c56d-4539-8813-d3506e872132",
   "metadata": {},
   "outputs": [],
   "source": [
    "import os\n",
    "os.environ[\"CUDA_VISIBLE_DEVICES\"]=\"1\""
   ]
  },
  {
   "cell_type": "markdown",
   "id": "5d44078c-dcfc-487f-80af-56e2dbc04682",
   "metadata": {},
   "source": [
    "# ▶️ Load and Preprocess OSHA Injuries dataset"
   ]
  },
  {
   "cell_type": "code",
   "execution_count": 2,
   "id": "902c19ec-61ce-415e-9251-4e396ba71ad4",
   "metadata": {},
   "outputs": [],
   "source": [
    "# Import modules for LLM finetuning and evaluation\n",
    "import finetune as ft\n",
    "import evaluate as ev"
   ]
  },
  {
   "cell_type": "code",
   "execution_count": 3,
   "id": "80b64b75-1eda-4189-a2aa-eea6d1436ace",
   "metadata": {},
   "outputs": [],
   "source": [
    "from datasets import Dataset"
   ]
  },
  {
   "cell_type": "code",
   "execution_count": 4,
   "id": "ff34660a-9f23-47fc-8478-3268c68db277",
   "metadata": {},
   "outputs": [],
   "source": [
    "import pandas as pd\n",
    "\n",
    "data = pd.read_csv(\"dataset/January2015toJuly2024.csv\", low_memory=False)"
   ]
  },
  {
   "cell_type": "code",
   "execution_count": null,
   "id": "565bcfcd-a86e-460d-9d54-0633d3126547",
   "metadata": {},
   "outputs": [],
   "source": [
    "data = data[[\"Nature\", \"NatureTitle\", \"Final Narrative\"]]\n",
    "data = data.dropna(subset=[\"Nature\", \"NatureTitle\", \"Final Narrative\"])\n",
    "data = data.sample(n=10000, random_state=1)\n",
    "data[\"Final Narrative\"] = data[\"Final Narrative\"].apply(lambda x : x.strip())\n",
    "data[\"NatureTitle\"] = data[\"NatureTitle\"].apply(lambda x : x.strip())\n",
    "data.head()"
   ]
  },
  {
   "cell_type": "code",
   "execution_count": null,
   "id": "e73fb5d9-8a6a-4b01-b7c5-c3d5028fbccb",
   "metadata": {},
   "outputs": [],
   "source": [
    "from datasets import Dataset\n",
    "ds = {\n",
    "    \"text\" : data[\"Final Narrative\"].to_list(),\n",
    "    \"label\" : data[\"NatureTitle\"].to_list()\n",
    "}\n",
    "\n",
    "ds = Dataset.from_dict(ds)\n",
    "ds = ds.class_encode_column(\"label\") # Convert label from Value to ClassLabel\n",
    "ds = ds.train_test_split(test_size=0.1)\n",
    "dataset, label_names = ft.preprocess_dataset(ds, \"text\", \"label\")"
   ]
  },
  {
   "cell_type": "markdown",
   "id": "08f8fe57-8936-4b78-a75b-1c31b8cedc1e",
   "metadata": {},
   "source": [
    "# ▶️ Load Baseline LLM"
   ]
  },
  {
   "cell_type": "markdown",
   "id": "73b13ee8-e353-4f7d-b0d1-0da90ca1d26a",
   "metadata": {},
   "source": [
    "NOTE: I want to refactor this into one function -> ``ft.load_model(name, device_map, quantized)``\n",
    "\n",
    "I think it would be a bit nicer."
   ]
  },
  {
   "cell_type": "code",
   "execution_count": null,
   "id": "b81d26a1-5028-4f82-bfa4-f5ad3ebaed91",
   "metadata": {},
   "outputs": [],
   "source": [
    "MODEL_ID = \"Qwen/Qwen2.5-7B-Instruct\"\n",
    "MODEL_DEVICE = \"cuda:0\"\n",
    "QUANTIZED = True # Load model with 4-bit quantization"
   ]
  },
  {
   "cell_type": "code",
   "execution_count": null,
   "id": "8721a682-05ab-47c9-81ad-c17c28596e6f",
   "metadata": {},
   "outputs": [],
   "source": [
    "from transformers import AutoTokenizer, AutoModelForCausalLM, BitsAndBytesConfig\n",
    "import torch\n",
    "\n",
    "# Same quantization configuration as QLoRA\n",
    "bnb_config = BitsAndBytesConfig(\n",
    "    load_in_4bit = True,\n",
    "    bnb_4bit_quant_type = \"nf4\",\n",
    "    bnb_4bit_use_double_quant = True,\n",
    "    bnb_4bit_compute_dtype = torch.float16\n",
    ") if QUANTIZED else None\n",
    "\n",
    "model = AutoModelForCausalLM.from_pretrained(\n",
    "    MODEL_ID,\n",
    "    quantization_config=bnb_config,\n",
    "    device_map=MODEL_DEVICE,\n",
    "    use_cache=False # use_cache is incompatible with gradient checkpointing\n",
    ")\n",
    "\n",
    "tokenizer = AutoTokenizer.from_pretrained(MODEL_ID)"
   ]
  },
  {
   "cell_type": "markdown",
   "id": "fbee3cf1-328f-4f9f-a3ad-7a0cd6fb057a",
   "metadata": {},
   "source": [
    "# ▶️ Evaluate Baseline LLM"
   ]
  },
  {
   "cell_type": "code",
   "execution_count": 14,
   "id": "aaa34ff2-b1a4-45cc-a1b5-b34ef77d0106",
   "metadata": {},
   "outputs": [],
   "source": [
    "from evaluate import EvaluationConfig"
   ]
  },
  {
   "cell_type": "code",
   "execution_count": 16,
   "id": "700697c0-de12-4d03-b28a-6a319ffeaf24",
   "metadata": {},
   "outputs": [],
   "source": [
    "osha_prompt = \"\"\"You are an expert at classifying OSHA injury reports into the following categories:\n",
    "\n",
    "CATEGORIES:\n",
    "0. Abrasions, scratches\n",
    "1. Amputations\n",
    "2. Amputations involving bone loss\n",
    "3. Amputations, avulsions, enucleations  unspecified\n",
    "4. Amputations, avulsions, enucleations, n.e.c.\n",
    "5. Anaphylactic shock, anaphylaxis\n",
    "6. Anxiety, stress  unspecified\n",
    "7. Asphyxiations, strangulations, suffocations\n",
    "8. Avulsions, enucleations\n",
    "9. Avulsions, enucleations without bone loss\n",
    "10. Blisters\n",
    "11. Bruises, contusions\n",
    "12. Burns and corrosions, unspecified\n",
    "13. Burns and other injuries, n.e.c.\n",
    "14. Caisson disease, bends, divers' palsy\n",
    "15. Cerebral and other intracranial hemorrhages\n",
    "16. Cerebral and other intracranial hemorrhages without skull fracture\n",
    "17. Chemical burns and corrosions, unspecified\n",
    "18. Chemical burns, corrosions  degree unspecified\n",
    "19. Circulatory system diseases, unspecified\n",
    "20. Concussions\n",
    "21. Convulsions, seizures\n",
    "22. Coughing and throat irritation- toxic, noxious, or allergenic effect\n",
    "23. Crushing injuries\n",
    "24. Cuts and abrasions or bruises\n",
    "25. Cuts, lacerations\n",
    "26. Cuts, lacerations, punctures without injury to internal structures\n",
    "27. Damage to artificial limb(s)\n",
    "28. Damage to medical implants, n.e.c.\n",
    "29. Dermatitis and reactions affecting the skin-acute, unspecified\n",
    "30. Disc disorders, herniated disc\n",
    "31. Dislocation of joints\n",
    "32. Dislocations\n",
    "33. Dislocations, n.e.c.\n",
    "34. Dislocations, unspecified\n",
    "35. Disorders of the ear, mastoid process, hearing, unspecified\n",
    "36. Dizziness, lightheadedness, headache-toxic, noxious, or allergenic effect\n",
    "37. EXPOSURES TO DISEASE-NO ILLNESS INCURRED\n",
    "38. Effects of heat  n.e.c.\n",
    "39. Effects of heat  unspecified\n",
    "40. Effects of heat and light, n.e.c.\n",
    "41. Effects of heat and light, unspecified\n",
    "42. Effects of poison, toxic, or allergenic exposure  n.e.c.\n",
    "43. Effects of poison, toxic, or allergenic exposure  unspecified\n",
    "44. Effects of reduced temperature, n.e.c.\n",
    "45. Electrical burns  any degree\n",
    "46. Electrical burns, unspecified\n",
    "47. Electrocution, electric shock\n",
    "48. Electrocutions, electric shocks\n",
    "49. First degree chemical burns and corrosions\n",
    "50. First degree electrical burns\n",
    "51. First degree heat (thermal) burns\n",
    "52. Fractures\n",
    "53. Fractures (except rib, trunk fractures) and internal injuries\n",
    "54. Fractures (except skull fractures) and concussions\n",
    "55. Fractures and burns\n",
    "56. Fractures and dislocations\n",
    "57. Fractures and other injuries, n.e.c.\n",
    "58. Fractures and other injuries, unspecified\n",
    "59. Fractures and soft tissue injuries\n",
    "60. Fractures and surface, flesh wounds\n",
    "61. Frostbite\n",
    "62. General symptoms  unspecified\n",
    "63. Gunshot wounds\n",
    "64. Heat (thermal) burns, unspecified\n",
    "65. Heat exhaustion, fatigue\n",
    "66. Heat exhaustion, prostration\n",
    "67. Heat stroke\n",
    "68. Heat stroke, syncope\n",
    "69. Heat syncope\n",
    "70. Hernias\n",
    "71. Hernias due to traumatic incidents\n",
    "72. Herniated discs\n",
    "73. Hyperventilation\n",
    "74. Injuries to internal organs, major blood vessels  unspecified\n",
    "75. Injuries to the brain, spinal cord and severe wounds, internal injuries\n",
    "76. Internal injuries to organs and blood vessels of the trunk\n",
    "77. Intracranial injuries  unspecified\n",
    "78. Intracranial injuries and injuries to internal organs\n",
    "79. Intracranial injuries with skull fractures\n",
    "80. Intracranial injuries, n.e.c.\n",
    "81. Intracranial injuries, unspecified\n",
    "82. Irritant dermatitis-acute\n",
    "83. Ischemic heart disease, unspecified\n",
    "84. Loss of consciousness-not heat related\n",
    "85. MULTIPLE DISEASES, CONDITIONS, AND DISORDERS\n",
    "86. Major tears to muscles, tendons, ligaments\n",
    "87. Multiple effects of heat and light\n",
    "88. Multiple intracranial injuries, n.e.c.\n",
    "89. Multiple intracranial injuries, unspecified\n",
    "90. Multiple nonspecified injuries and disorders\n",
    "91. Multiple poisoning, toxic, noxious, or allergenic effects\n",
    "92. Multiple severe wounds and internal injuries\n",
    "93. Multiple sprains, strains, tears\n",
    "94. Multiple surface and flesh wounds\n",
    "95. Multiple surface wounds and bruises\n",
    "96. Multiple symptoms\n",
    "97. Multiple traumatic injuries and disorders  unspecified\n",
    "98. Multiple traumatic injuries and disorders, n.e.c.\n",
    "99. Multiple traumatic injuries and disorders, unspecified\n",
    "100. Multiple traumatic injuries to muscles, tendons, ligaments, joints, etc.\n",
    "101. Multiple types of dislocations\n",
    "102. Multiple types of open wounds\n",
    "103. Myocardial infarction (heart attack)\n",
    "104. Nausea, vomiting- toxic, noxious, or allergenic effect\n",
    "105. Nonfatal 'crushing' injuries\n",
    "106. Nonspecified injuries and disorders, n.e.c.\n",
    "107. Open wounds involving internal organs, major blood vessels\n",
    "108. Open wounds, unspecified\n",
    "109. Other burns, second degree\n",
    "110. Other burns, unspecified\n",
    "111. Other multiple traumatic injuries  n.e.c.\n",
    "112. Other or unspecified allergic reactions\n",
    "113. Other poisoning, toxic, noxious, or allergenic effects, n.e.c.\n",
    "114. Other respiratory system symptoms-toxic, noxious, or allergenic effect\n",
    "115. Other traumatic injuries and disorders, unspecified\n",
    "116. Paralysis, paraplegia, quadriplegia\n",
    "117. Pinched nerve\n",
    "118. Poisoning, including poisoning-related asphyxia\n",
    "119. Poisoning, poisoning-related asphyxia\n",
    "120. Poisoning, toxic, noxious, or allergenic effect, unspecified\n",
    "121. Pulmonary edema\n",
    "122. Puncture wounds, except gunshot wounds\n",
    "123. Second degree chemical burns and corrosions\n",
    "124. Second degree electrical burns\n",
    "125. Second degree heat (thermal) burns\n",
    "126. Severe wounds, internal injuries and electrocution, electric shock\n",
    "127. Skull fracture and intracranial injury\n",
    "128. Soft tissue injuries  unspecified\n",
    "129. Soreness, pain, hurt-nonspecified injury\n",
    "130. Soreness, swelling, inflammation\n",
    "131. Sprains\n",
    "132. Sprains and cuts\n",
    "133. Sprains, strains, minor tears\n",
    "134. Sprains, strains, tears  unspecified\n",
    "135. Sprains, strains, tears, unspecified\n",
    "136. Strains\n",
    "137. Stroke\n",
    "138. Surface, flesh wounds and burns, electrical injuries\n",
    "139. Swelling, inflammation, irritation-nonspecified injury\n",
    "140. Thermal burns  degree unspecified\n",
    "141. Thermal burns  second degree\n",
    "142. Thermal burns  third degree or higher\n",
    "143. Third or fourth degree chemical burns and corrosions\n",
    "144. Third or fourth degree electrical burns\n",
    "145. Third or fourth degree heat (thermal) burns\n",
    "146. Traumatic injuries and disorders, n.e.c.\n",
    "147. Traumatic injuries and disorders, unspecified\n",
    "148. Traumatic injuries or exposures  unspecified\n",
    "149. Traumatic injuries to bones, nerves, spinal cord, unspecified\n",
    "150. Traumatic injuries to muscles, tendons, ligaments, joints, etc., n.e.c.\n",
    "151. Traumatic injuries to muscles, tendons, ligaments, joints, etc., unspecified\n",
    "152. Traumatic injuries to nerves, except the spinal cord, n.e.c.\n",
    "153. Traumatic injuries to nerves, except the spinal cord, unspecified\n",
    "154. Traumatic injuries to spinal cord, n.e.c.\n",
    "155. Traumatic injuries to spinal cord, unspecified\n",
    "156. Whiplash\n",
    "\n",
    "Read the following OSHA injury report then answer with the name of the category which suits it best.\n",
    "Answer with ONLY the name of the category, i.e. \"Sprains and cuts\".\n",
    "\"\"\""
   ]
  },
  {
   "cell_type": "code",
   "execution_count": null,
   "id": "7490271f-82e2-4c33-abb0-5f1cb695436d",
   "metadata": {},
   "outputs": [],
   "source": [
    "# Configurations for the baseline LLM\n",
    "baseline_configurations = [\n",
    "    EvaluationConfig(\n",
    "        name=\"Zero-shot\",\n",
    "        prompt=prompts.osha_prompt,\n",
    "        max_tokens=1\n",
    "    )\n",
    "]"
   ]
  },
  {
   "cell_type": "code",
   "execution_count": null,
   "id": "2b9f0f8e-3fe6-4aa6-88a2-abaf37506d0b",
   "metadata": {},
   "outputs": [],
   "source": [
    "def evaluate_model(configurations, model, tokenizer, label_names, eval_dataset):\n",
    "    results = []\n",
    "    for config in configurations:\n",
    "        result = ev.evaluate(\n",
    "            model=model, tokenizer=tokenizer, label_names=label_names,\n",
    "            eval_dataset=dataset['test'], eval_config=config\n",
    "        )\n",
    "        results.append(result)\n",
    "        result.save() # Saves to \"output/<EvaluationConfig.name>\"\n",
    "    return results"
   ]
  },
  {
   "cell_type": "code",
   "execution_count": null,
   "id": "45e14f47",
   "metadata": {},
   "outputs": [],
   "source": [
    "baseline_results = evaluate_model(baseline_configurations, model=model, tokenizer=tokenizer, label_names=label_names, eval_dataset=dataset['test'])"
   ]
  },
  {
   "cell_type": "markdown",
   "id": "dc0eaf7f",
   "metadata": {},
   "source": [
    "# ▶️ Finetune LLM"
   ]
  },
  {
   "cell_type": "code",
   "execution_count": null,
   "id": "2b7396b8",
   "metadata": {},
   "outputs": [],
   "source": [
    "FINETUNED_LLM_NAME = \"Qwen2.5-FT-DBPedia\"\n",
    "\n",
    "LORA_RANK_DIMENSION = 6 # the rank of the adapter, the lower the fewer parameters you'll need to train. (smaller = more compression)\n",
    "LORA_ALPHA = 8 # this is the scaling factor for LoRA layers (higher = stronger adaptation)\n",
    "LORA_DROPOUT = 0.05 # dropout probability for LoRA layers (helps prevent overfitting)\n",
    "MAX_SEQ_LENGTH = 64\n",
    "EPOCHS=1\n",
    "LEARNING_RATE=2e-4"
   ]
  },
  {
   "cell_type": "code",
   "execution_count": null,
   "id": "0dd13482",
   "metadata": {},
   "outputs": [],
   "source": [
    "from peft import LoraConfig\n",
    "\n",
    "lora_config = LoraConfig(\n",
    "    r=LORA_RANK_DIMENSION,\n",
    "    lora_alpha=LORA_ALPHA,\n",
    "    bias=\"none\",\n",
    "    lora_dropout=LORA_DROPOUT,\n",
    "    task_type=\"CAUSAL_LM\"\n",
    ")"
   ]
  },
  {
   "cell_type": "code",
   "execution_count": null,
   "id": "988d0b0b",
   "metadata": {},
   "outputs": [],
   "source": [
    "from trl import SFTConfig, SFTTrainer\n",
    "\n",
    "sft_config = SFTConfig(\n",
    "    gradient_checkpointing=True,\n",
    "    gradient_checkpointing_kwargs={'use_reentrant': False},\n",
    "    gradient_accumulation_steps=1,\n",
    "    per_device_train_batch_size=16,\n",
    "    auto_find_batch_size=True,\n",
    "    \n",
    "    max_seq_length=MAX_SEQ_LENGTH,\n",
    "    packing=True,\n",
    "    \n",
    "    num_train_epochs=EPOCHS,\n",
    "    learning_rate=LEARNING_RATE,\n",
    "    optim='adamw_torch_fused',\n",
    "    warmup_ratio=0.03,\n",
    "    lr_scheduler_type=\"constant\", \n",
    "    \n",
    "    logging_steps=10,\n",
    "    logging_dir='./logs',\n",
    "    output_dir=FINETUNED_LLM_NAME,\n",
    "    report_to='none'\n",
    ")"
   ]
  },
  {
   "cell_type": "code",
   "execution_count": null,
   "id": "cde7a7bb",
   "metadata": {},
   "outputs": [],
   "source": [
    "# ft.finetune( # Will save the model to the directory: FINETUNED_LLM_NAME\n",
    "#     model=model, tokenizer=tokenizer,\n",
    "#     train_dataset=dataset['train'],\n",
    "#     lora_config=lora_config, sft_config=sft_config\n",
    "# )"
   ]
  },
  {
   "cell_type": "markdown",
   "id": "7a6ef836",
   "metadata": {},
   "source": [
    "# ▶️ Load Finetuned LLM"
   ]
  },
  {
   "cell_type": "code",
   "execution_count": null,
   "id": "45ddadc2",
   "metadata": {},
   "outputs": [],
   "source": [
    "# Unload the baseline model if it exists, otherwise we will probably get an OOM exception\n",
    "import gc, torch\n",
    "\n",
    "if \"bnb_config\" in locals(): del bnb_config\n",
    "if \"tokenizer\" in locals(): del tokenizer\n",
    "if \"model\" in locals(): del model\n",
    "gc.collect()\n",
    "torch.cuda.empty_cache()"
   ]
  },
  {
   "cell_type": "code",
   "execution_count": null,
   "id": "e8909f0b",
   "metadata": {},
   "outputs": [],
   "source": [
    "FINETUNED_LLM_NAME = \"Qwen2.5-FT-DBPedia\"\n",
    "MODEL_DEVICE = \"cuda:0\"\n",
    "QUANTIZED = True # Load model with 4-bit quantization\n",
    "\n",
    "model, tokenizer = ft.load_finetuned_llm(FINETUNED_LLM_NAME, MODEL_DEVICE, QUANTIZED)"
   ]
  },
  {
   "cell_type": "markdown",
   "id": "ed475c01",
   "metadata": {},
   "source": [
    "# ▶️ Evaluate Finetuned LLM"
   ]
  },
  {
   "cell_type": "code",
   "execution_count": null,
   "id": "c7afae32",
   "metadata": {},
   "outputs": [],
   "source": [
    "finetuned_configurations = [\n",
    "    EvaluationConfig(\n",
    "        name=\"Fine-tuned\",\n",
    "        prompt=None,\n",
    "        max_tokens=1\n",
    "    )\n",
    "]"
   ]
  },
  {
   "cell_type": "code",
   "execution_count": null,
   "id": "82e5d60c",
   "metadata": {},
   "outputs": [],
   "source": [
    "finetuned_results = evaluate_model(finetuned_configurations, model=model, tokenizer=tokenizer, label_names=label_names, eval_dataset=dataset['test'])"
   ]
  }
 ],
 "metadata": {
  "kernelspec": {
   "display_name": "Python 3 (ipykernel)",
   "language": "python",
   "name": "python3"
  },
  "language_info": {
   "codemirror_mode": {
    "name": "ipython",
    "version": 3
   },
   "file_extension": ".py",
   "mimetype": "text/x-python",
   "name": "python",
   "nbconvert_exporter": "python",
   "pygments_lexer": "ipython3",
   "version": "3.12.8"
  }
 },
 "nbformat": 4,
 "nbformat_minor": 5
}
